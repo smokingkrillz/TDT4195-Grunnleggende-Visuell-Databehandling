{
 "cells": [
  {
   "cell_type": "code",
   "execution_count": 9,
   "metadata": {},
   "outputs": [],
   "source": [
    "\n",
    "%load_ext autoreload\n",
    "%autoreload 2\n",
    "\n",
    "from pl_trainer import LightningModule\n",
    "from data_module import MNISTDataModule\n",
    "from torchvision import transforms\n",
    "import torch.nn as nn\n",
    "import lightning.pytorch as pl\n",
    "import pandas as pd\n",
    "import matplotlib.pyplot as plt\n",
    "import torch\n",
    "\n",
    "pl.seed_everything(42)"
   ]
  },
  {
   "cell_type": "markdown",
   "metadata": {},
   "source": [
    "# Setting up Hyperparameters"
   ]
  },
  {
   "cell_type": "code",
   "execution_count": 10,
   "metadata": {},
   "outputs": [],
   "source": [
    "lr = 0.02 # Change learning rate here\n",
    "batch_size = 64\n",
    "max_epochs = 5"
   ]
  },
  {
   "cell_type": "markdown",
   "metadata": {},
   "source": [
    "# Setting up Optimizer"
   ]
  },
  {
   "cell_type": "code",
   "execution_count": 11,
   "metadata": {},
   "outputs": [],
   "source": [
    "optimizer = torch.optim.SGD # Change the optimizer here"
   ]
  },
  {
   "cell_type": "markdown",
   "metadata": {},
   "source": [
    "# Defining Model Architecture "
   ]
  },
  {
   "cell_type": "code",
   "execution_count": 12,
   "metadata": {},
   "outputs": [],
   "source": [
    "def create_model():\n",
    "    \"\"\"\n",
    "        Initializes the model. Edit the code below if you would like to change the model.\n",
    "    \"\"\"\n",
    "    # Replace this placeholder network.\n",
    "    model = nn.Sequential(\n",
    "        nn.Flatten(),  # Flattens the image from shape (batch_size, C, Height, width) to (batch_size, C*height*width)\n",
    "        nn.Linear(32*32*1, 10), \n",
    "    )\n",
    "    \n",
    "    return model\n",
    "\n",
    "# Initialize the model, data module, and trainer\n",
    "pl_model = LightningModule(model=create_model(), lr=lr, optimizer=optimizer)"
   ]
  },
  {
   "cell_type": "markdown",
   "metadata": {},
   "source": [
    "# Setting up Dataloaders and Transformations"
   ]
  },
  {
   "cell_type": "code",
   "execution_count": 13,
   "metadata": {},
   "outputs": [],
   "source": [
    "my_transforms = transforms.Compose([\n",
    "        transforms.Resize((32, 32)),\n",
    "        transforms.ToTensor(),\n",
    "        transforms.Normalize([0.5], [0.5])])\n",
    "\n",
    "\n",
    "mnist_data = MNISTDataModule(batch_size=batch_size, transforms=my_transforms)"
   ]
  },
  {
   "cell_type": "markdown",
   "metadata": {},
   "source": [
    "# Train Model"
   ]
  },
  {
   "cell_type": "code",
   "execution_count": 14,
   "metadata": {},
   "outputs": [],
   "source": [
    "# Initialize CSVLogger\n",
    "csv_logger = pl.loggers.CSVLogger(save_dir='logs/', name='mnist_logs', version=0)\n",
    "\n",
    "# Set up the trainer\n",
    "trainer = pl.Trainer(max_epochs=max_epochs, \n",
    "                     logger=csv_logger, \n",
    "                     check_val_every_n_epoch=1, \n",
    "                     enable_checkpointing=False,\n",
    "                     deterministic=True)\n",
    "\n",
    "# Train the model\n",
    "trainer.fit(pl_model, mnist_data)"
   ]
  },
  {
   "cell_type": "markdown",
   "metadata": {},
   "source": [
    "# Plot Results"
   ]
  },
  {
   "cell_type": "code",
   "execution_count": 15,
   "metadata": {},
   "outputs": [],
   "source": [
    "df = pd.read_csv('logs/mnist_logs/version_0/metrics.csv')\n",
    "\n",
    "# Create a figure and axes objects\n",
    "fig, ax = plt.subplots(1,2)\n",
    "\n",
    "# Plot 'val_loss' on the axes\n",
    "df.dropna(subset=['val_loss']).plot(x='step', y='val_loss', ax=ax[0], label='Validation Loss (Mean)')\n",
    "# Plot 'train_loss' on the same axes\n",
    "df.dropna(subset=['train_loss']).plot(x='step', y='train_loss', ax=ax[0], label='Training Loss')\n",
    "\n",
    "# Plot 'val_loss' on the axes\n",
    "df.dropna(subset=['val_acc']).plot(x='step', y='val_acc', ax=ax[1], label='Validation Accuracy (Mean)')\n",
    "# Plot 'train_loss' on the same axes\n",
    "df.dropna(subset=['train_acc']).plot(x='step', y='train_acc', ax=ax[1], label='Training Accuracy')\n",
    "\n",
    "ax[0].set_title('Loss')\n",
    "ax[1].set_title('Accuracy')\n",
    "plt.show()\n",
    "\n",
    "print(\"Final validation loss\", round(df['val_loss'].iloc[-1], 4))\n",
    "print(\"Final validation accuracy\", round(df['val_acc'].iloc[-1], 4))"
   ]
  }
 ],
 "metadata": {
  "kernelspec": {
   "display_name": "tdt4195",
   "language": "python",
   "name": "python3"
  },
  "language_info": {
   "codemirror_mode": {
    "name": "ipython",
    "version": 3
   },
   "file_extension": ".py",
   "mimetype": "text/x-python",
   "name": "python",
   "nbconvert_exporter": "python",
   "pygments_lexer": "ipython3",
   "version": "3.10.15"
  }
 },
 "nbformat": 4,
 "nbformat_minor": 2
}
