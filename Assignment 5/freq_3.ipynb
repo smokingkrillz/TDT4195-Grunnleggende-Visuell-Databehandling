{
 "cells": [
  {
   "cell_type": "code",
   "execution_count": 14,
   "metadata": {},
   "outputs": [],
   "source": [
    "# Load convolve_im_freq from freq_1.ipynb \n",
    "from IPython.display import clear_output\n",
    "%run -n freq_1.ipynb \n",
    "clear_output(wait=False) \n",
    "\n",
    "import os\n",
    "import numpy as np\n",
    "import utils\n",
    "import matplotlib.pyplot as plt "
   ]
  },
  {
   "cell_type": "code",
   "execution_count": 15,
   "metadata": {},
   "outputs": [],
   "source": [
    "def create_kernel(im):\n",
    "    \"\"\"\n",
    "    Creates a filter kernel in the frequency domain.\n",
    "\n",
    "    Args:\n",
    "        im: np.array of shape [H, W]\n",
    "    Returns:\n",
    "        kernel: np.array of shape [H, W]\n",
    "    \"\"\"\n",
    "    ### START YOUR CODE HERE ### (You can change anything inside this block)\n",
    "    kernel = np.ones_like((im))\n",
    "    ### END YOUR CODE HERE ###\n",
    "    return kernel"
   ]
  },
  {
   "cell_type": "code",
   "execution_count": 16,
   "metadata": {},
   "outputs": [],
   "source": [
    "if __name__ == \"__main__\":\n",
    "    # Changing this code should not be needed!\n",
    "    \n",
    "    impath = os.path.join(\"images\", \"noisy_moon.png\")\n",
    "    im = utils.read_im(impath)\n",
    "\n",
    "    kernel = create_kernel(im)        \n",
    "    # Note that this function is from your own implementation of convolve_im_freq from freq_1.ipynb\n",
    "    im_filtered = convolve_im_freq(im, kernel, True) \n",
    "    \n",
    "    utils.save_im(\"moon_filtered.png\", utils.normalize(im_filtered))"
   ]
  }
 ],
 "metadata": {
  "kernelspec": {
   "display_name": "tdt4195",
   "language": "python",
   "name": "python3"
  },
  "language_info": {
   "codemirror_mode": {
    "name": "ipython",
    "version": 3
   },
   "file_extension": ".py",
   "mimetype": "text/x-python",
   "name": "python",
   "nbconvert_exporter": "python",
   "pygments_lexer": "ipython3",
   "version": "3.10.15"
  }
 },
 "nbformat": 4,
 "nbformat_minor": 4
}
