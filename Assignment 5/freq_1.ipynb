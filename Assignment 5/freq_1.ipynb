{
 "cells": [
  {
   "cell_type": "code",
   "execution_count": 19,
   "metadata": {},
   "outputs": [],
   "source": [
    "import matplotlib.pyplot as plt\n",
    "import numpy as np\n",
    "import skimage\n",
    "import utils\n"
   ]
  },
  {
   "cell_type": "code",
   "execution_count": 20,
   "metadata": {},
   "outputs": [],
   "source": [
    "def convolve_im_freq(im: np.array,\n",
    "                fft_kernel: np.array,\n",
    "                verbose=True):\n",
    "    \"\"\" Convolves the image (im) with the frequency kernel (fft_kernel),\n",
    "        and returns the resulting image.\n",
    "\n",
    "        \"verbose\" can be used for turning on/off visualization\n",
    "        convolution\n",
    "\n",
    "    Args:\n",
    "        im: np.array of shape [H, W]\n",
    "        fft_kernel: np.array of shape [H, W] \n",
    "        verbose: bool\n",
    "    Returns:\n",
    "        im: np.array of shape [H, W]\n",
    "    \"\"\"\n",
    "    ### START YOUR CODE HERE ### (You can change anything inside this block)\n",
    "    conv_result = im\n",
    "    \n",
    "    if verbose:\n",
    "        # Use plt.subplot to place two or more images beside eachother\n",
    "        plt.figure(figsize=(20, 4))\n",
    "        # plt.subplot(num_rows, num_cols, position (1-indexed))\n",
    "        plt.subplot(1, 5, 1)\n",
    "        plt.imshow(im, cmap=\"gray\")\n",
    "        plt.title(\"Original Image\")\n",
    "\n",
    "        plt.subplot(1, 5, 2) \n",
    "        # Visualize FFT\n",
    "        plt.title(\"FFT Image\")\n",
    "        \n",
    "        plt.subplot(1, 5, 3)\n",
    "        # Visualize FFT kernel\n",
    "        \n",
    "        plt.title(\"FFT Kernel\")\n",
    "        plt.subplot(1, 5, 4)\n",
    "        # Visualize filtered FFT image\n",
    "        plt.title(\"Filtered FFT Image\")\n",
    "        plt.subplot(1, 5, 5) \n",
    "        # Visualize filtered spatial image\n",
    "        plt.imshow(conv_result, cmap=\"gray\")\n",
    "        plt.title(\"Filtered Spatial Image\")\n",
    "        \n",
    "        \n",
    "\n",
    "    ### END YOUR CODE HERE ###\n",
    "    return conv_result"
   ]
  },
  {
   "cell_type": "code",
   "execution_count": 21,
   "metadata": {},
   "outputs": [],
   "source": [
    "if __name__ == \"__main__\":\n",
    "    verbose = True\n",
    "    # Changing this code should not be needed\n",
    "    im = skimage.data.camera()\n",
    "    im = utils.uint8_to_float(im)\n",
    "    # DO NOT CHANGE\n",
    "    frequency_kernel_low_pass = utils.create_low_pass_frequency_kernel(im, radius=50)\n",
    "    image_low_pass = convolve_im_freq(im, frequency_kernel_low_pass,\n",
    "                                 verbose=verbose)\n",
    "    # DO NOT CHANGE\n",
    "    frequency_kernel_high_pass = utils.create_high_pass_frequency_kernel(im, radius=50)\n",
    "    image_high_pass = convolve_im_freq(im, frequency_kernel_high_pass,\n",
    "                                  verbose=verbose)\n",
    "\n",
    "    if verbose:\n",
    "        plt.show()\n",
    "    utils.save_im(\"camera_low_pass.png\", image_low_pass)\n",
    "    utils.save_im(\"camera_high_pass.png\", image_high_pass)"
   ]
  }
 ],
 "metadata": {
  "kernelspec": {
   "display_name": "tdt4195",
   "language": "python",
   "name": "python3"
  },
  "language_info": {
   "codemirror_mode": {
    "name": "ipython",
    "version": 3
   },
   "file_extension": ".py",
   "mimetype": "text/x-python",
   "name": "python",
   "nbconvert_exporter": "python",
   "pygments_lexer": "ipython3",
   "version": "3.10.15"
  }
 },
 "nbformat": 4,
 "nbformat_minor": 4
}
