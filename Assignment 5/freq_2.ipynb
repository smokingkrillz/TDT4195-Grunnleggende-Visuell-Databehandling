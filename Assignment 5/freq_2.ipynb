{
 "cells": [
  {
   "cell_type": "code",
   "execution_count": 13,
   "metadata": {},
   "outputs": [],
   "source": [
    "import matplotlib.pyplot as plt\n",
    "import numpy as np\n",
    "import skimage\n",
    "import utils\n"
   ]
  },
  {
   "cell_type": "code",
   "execution_count": 14,
   "metadata": {},
   "outputs": [],
   "source": [
    "\n",
    "\n",
    "\n",
    "def convolve_im_spatial(im: np.array,\n",
    "                kernel: np.array,\n",
    "                verbose=True):\n",
    "    \"\"\" Convolves the image (im) with the spatial kernel (kernel),\n",
    "        and returns the resulting image.\n",
    "\n",
    "        \"verbose\" can be used for turning on/off visualization\n",
    "        convolution\n",
    "        \n",
    "        Note: kernel can be of different shape than im.\n",
    "\n",
    "    Args:\n",
    "        im: np.array of shape [H, W]\n",
    "        kernel: np.array of shape [K, K] \n",
    "        verbose: bool\n",
    "    Returns:\n",
    "        im: np.array of shape [H, W]\n",
    "    \"\"\"\n",
    "    ### START YOUR CODE HERE ### (You can change anything inside this block)\n",
    "    orig_im = im.copy()\n",
    "    orig_shape = im.shape\n",
    "    conv_result = im\n",
    "    \n",
    "\n",
    "    if verbose:\n",
    "        # Use plt.subplot to place two or more images beside eachother\n",
    "        plt.figure(figsize=(20, 4))\n",
    "        # plt.subplot(num_rows, num_cols, position (1-indexed))\n",
    "        plt.subplot(1, 5, 1)\n",
    "        plt.imshow((orig_im.astype('float')), cmap=\"gray\")\n",
    "        plt.title(\"Original Image\")\n",
    "        \n",
    "        plt.subplot(1, 5, 2) \n",
    "        # Visualize FFT\n",
    "        plt.title(\"FFT Image\")\n",
    "        \n",
    "        plt.subplot(1, 5, 3)\n",
    "        # Visualize FFT kernel\n",
    "        plt.title(\"FFT Kernel\")\n",
    "        \n",
    "        plt.subplot(1, 5, 4)\n",
    "        # Visualize filtered FFT image\n",
    "        plt.title(\"Filtered FFT Image\")\n",
    "        \n",
    "        plt.subplot(1, 5, 5) \n",
    "        # Visualize filtered spatial image\n",
    "        plt.imshow(conv_result, cmap=\"gray\")\n",
    "        plt.title(\"Filtered Spatial Image\")\n",
    "\n",
    "    ### END YOUR CODE HERE ###\n",
    "    return conv_result"
   ]
  },
  {
   "cell_type": "code",
   "execution_count": 15,
   "metadata": {},
   "outputs": [],
   "source": [
    "if __name__ == \"__main__\":\n",
    "    verbose = True  # change if you want\n",
    "\n",
    "    # Changing this code should not be needed\n",
    "    im = skimage.data.camera()\n",
    "    im = utils.uint8_to_float(im)\n",
    "\n",
    "    # DO NOT CHANGE\n",
    "    gaussian_kernel = np.array([\n",
    "        [1, 4, 6, 4, 1],\n",
    "        [4, 16, 24, 16, 4],\n",
    "        [6, 24, 36, 24, 6],\n",
    "        [4, 16, 24, 16, 4],\n",
    "        [1, 4, 6, 4, 1],\n",
    "    ]) / 256\n",
    "    image_gaussian = convolve_im_spatial(im, gaussian_kernel, verbose)\n",
    "\n",
    "    # DO NOT CHANGE\n",
    "    sobel_horizontal = np.array([\n",
    "        [-1, 0, 1],\n",
    "        [-2, 0, 2],\n",
    "        [-1, 0, 1]\n",
    "    ])\n",
    "    image_sobelx = convolve_im_spatial(im, sobel_horizontal, verbose)\n",
    "\n",
    "    if verbose:\n",
    "        plt.show()\n",
    "\n",
    "    utils.save_im(\"camera_gaussian.png\", image_gaussian)\n",
    "    utils.save_im(\"camera_sobelx.png\", image_sobelx)"
   ]
  }
 ],
 "metadata": {
  "kernelspec": {
   "display_name": "tdt4195",
   "language": "python",
   "name": "python3"
  },
  "language_info": {
   "codemirror_mode": {
    "name": "ipython",
    "version": 3
   },
   "file_extension": ".py",
   "mimetype": "text/x-python",
   "name": "python",
   "nbconvert_exporter": "python",
   "pygments_lexer": "ipython3",
   "version": "3.10.15"
  },
  "metadata": {
   "interpreter": {
    "hash": "31f2aee4e71d21fbe5cf8b01ff0e069b9275f58929596ceb00d14d90e3e16cd6"
   }
  }
 },
 "nbformat": 4,
 "nbformat_minor": 4
}
